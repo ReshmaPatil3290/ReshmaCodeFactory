{
  "nbformat": 4,
  "nbformat_minor": 0,
  "metadata": {
    "colab": {
      "provenance": [],
      "authorship_tag": "ABX9TyNfqSS293xUL6UIZEAZZiS/",
      "include_colab_link": true
    },
    "kernelspec": {
      "name": "python3",
      "display_name": "Python 3"
    },
    "language_info": {
      "name": "python"
    }
  },
  "cells": [
    {
      "cell_type": "markdown",
      "metadata": {
        "id": "view-in-github",
        "colab_type": "text"
      },
      "source": [
        "<a href=\"https://colab.research.google.com/github/ReshmaPatil3290/ReshmaCodeFactory/blob/main/Functionsinpython.ipynb\" target=\"_parent\"><img src=\"https://colab.research.google.com/assets/colab-badge.svg\" alt=\"Open In Colab\"/></a>"
      ]
    },
    {
      "cell_type": "code",
      "execution_count": null,
      "metadata": {
        "id": "_ej7Ts_y7zWk"
      },
      "outputs": [],
      "source": [
        "from ast import If\n",
        "# Funcitons in python\n",
        "# Tow  types of functions (Methods)\n",
        "# 1.Inbuilt Functions print() , len() , input()\n",
        "# 2. User Defined Function We create ourselve\n",
        "# 3. lambda function one line  function\n",
        "\n",
        "#function without param\n",
        "#Function with param\n",
        "#function without param\n",
        "def add1():\n",
        "  c=5+6\n",
        "  print(c)\n",
        "\n",
        "#function with param\n",
        "def add2(a=1,b=1):  #default value 1\n",
        " print(int(a)+int(b))\n",
        " return a+b\n",
        "\n",
        "#function with param\n",
        "def sub(a=1,b=1):  #default value 1\n",
        " print(int(a)-int(b))\n",
        " return a-b\n",
        "\n",
        "#function with param\n",
        "def mul(a=1,b=1):  #default value 1\n",
        " print(int(a)*int(b))\n",
        " return a*b\n",
        "\n",
        "#function with param\n",
        "def div(a=1,b=1):  #default value 1\n",
        " print(int(a)/int(b))\n",
        " return a/b\n",
        "\n",
        "#print('sum is ', add2(5,6))\n",
        "#print('sub is ', sub(5,6))\n",
        "#print('mul is ', mul(5,6))\n",
        "#print('div is ', div(5,6))\n",
        "\n",
        "\n",
        "A = int(input('input number1'))\n",
        "B = int(input('input number2'))\n",
        "C = input('Enter the operation 1.ADD 2.SUB 3.DIV 4.MUL ').upper()\n",
        "\n",
        "if C=='ADD' :\n",
        "   add2(A,B)\n",
        "\n",
        "if C=='SUB' :\n",
        "   sub(A,B)\n",
        "\n",
        "if C=='DIV' :\n",
        "   div(A,B)\n",
        "\n",
        "if C=='MUL' :\n",
        "   mul(A,B)\n",
        "\n"
      ]
    },
    {
      "cell_type": "code",
      "source": [
        "#lambda function\n",
        "addfunc = lambda x,y : x+y  #always  one line  functin\n",
        "#                inp   ret\n",
        "\n",
        "addfunc(5,6)\n",
        "\n"
      ],
      "metadata": {
        "id": "2ZUPbLdQHVsR",
        "outputId": "088f3407-751f-42b2-fc94-e614794653a4",
        "colab": {
          "base_uri": "https://localhost:8080/"
        }
      },
      "execution_count": 4,
      "outputs": [
        {
          "output_type": "execute_result",
          "data": {
            "text/plain": [
              "11"
            ]
          },
          "metadata": {},
          "execution_count": 4
        }
      ]
    },
    {
      "cell_type": "code",
      "source": [
        "filter() , map()  # learn before next seesopn\n"
      ],
      "metadata": {
        "id": "Co1TGxDpH4JQ"
      },
      "execution_count": null,
      "outputs": []
    }
  ]
}