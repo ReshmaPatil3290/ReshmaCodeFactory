{
  "nbformat": 4,
  "nbformat_minor": 0,
  "metadata": {
    "colab": {
      "provenance": [],
      "authorship_tag": "ABX9TyNzn7YWCkMATyXtHYT+7BZi",
      "include_colab_link": true
    },
    "kernelspec": {
      "name": "python3",
      "display_name": "Python 3"
    },
    "language_info": {
      "name": "python"
    }
  },
  "cells": [
    {
      "cell_type": "markdown",
      "metadata": {
        "id": "view-in-github",
        "colab_type": "text"
      },
      "source": [
        "<a href=\"https://colab.research.google.com/github/ReshmaPatil3290/ReshmaCodeFactory/blob/main/Python%20Data%20Types.ipynb\" target=\"_parent\"><img src=\"https://colab.research.google.com/assets/colab-badge.svg\" alt=\"Open In Colab\"/></a>"
      ]
    },
    {
      "cell_type": "code",
      "execution_count": null,
      "metadata": {
        "id": "42cBFaUsgwCi"
      },
      "outputs": [],
      "source": [
        "# My Paython notes"
      ]
    },
    {
      "cell_type": "markdown",
      "source": [],
      "metadata": {
        "id": "mEJVv4rbkd6f"
      }
    },
    {
      "cell_type": "code",
      "source": [],
      "metadata": {
        "id": "Klc-WWHLkzyg"
      },
      "execution_count": null,
      "outputs": []
    }
  ]
}