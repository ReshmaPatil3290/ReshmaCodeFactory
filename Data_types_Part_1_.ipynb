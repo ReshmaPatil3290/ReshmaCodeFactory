{
  "nbformat": 4,
  "nbformat_minor": 0,
  "metadata": {
    "colab": {
      "provenance": [],
      "authorship_tag": "ABX9TyNlItIFGtOR/RUz7xuUgrvB",
      "include_colab_link": true
    },
    "kernelspec": {
      "name": "python3",
      "display_name": "Python 3"
    },
    "language_info": {
      "name": "python"
    }
  },
  "cells": [
    {
      "cell_type": "markdown",
      "metadata": {
        "id": "view-in-github",
        "colab_type": "text"
      },
      "source": [
        "<a href=\"https://colab.research.google.com/github/ReshmaPatil3290/ReshmaCodeFactory/blob/main/Data_types_Part_1_.ipynb\" target=\"_parent\"><img src=\"https://colab.research.google.com/assets/colab-badge.svg\" alt=\"Open In Colab\"/></a>"
      ]
    },
    {
      "cell_type": "code",
      "execution_count": null,
      "metadata": {
        "id": "I1urF7fymbNs"
      },
      "outputs": [],
      "source": [
        "#data types\n",
        "\n",
        "print('------int data types---')\n",
        "num1 =  12\n",
        "print(type(num1))\n",
        "print(num1)\n",
        "print('---------------------')\n",
        "\n",
        "print('------float data types---')\n",
        "numfloat = 12.34\n",
        "print(type(numfloat))\n",
        "print(numfloat)\n",
        "print('---------------------')\n",
        "\n",
        "\n",
        "print('------complex data types---')\n",
        "complex_data = 12.34 + 7j\n",
        "print(type(complex_data))\n",
        "print(complex_data)\n",
        "print('---------------------')\n",
        "\n",
        "\n",
        "print('------boolean data types---')\n",
        "bool_example = False\n",
        "bool_example = True\n",
        "print(type(bool_example))\n",
        "print(bool_example)\n",
        "print('---------------------')\n",
        "\n",
        "print('------sring data types---')\n",
        "string_example = 'Hello !!! Jay Shri ram '\n",
        "print(type(string_example))\n",
        "print(string_example)\n",
        "\n",
        "string_example_multiline = ''' this is example of multiline string\n",
        "                      '''\n",
        "print(type(string_example_multiline))\n",
        "print(string_example,string_example_multiline)\n",
        "\n",
        "str1 = '\"apple\"'\n",
        "str2 = '\"mango\"'\n",
        "print(str1,str2)\n",
        "print('---------------------')"
      ]
    }
  ]
}