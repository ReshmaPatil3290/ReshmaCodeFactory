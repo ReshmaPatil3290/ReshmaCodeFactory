{
  "nbformat": 4,
  "nbformat_minor": 0,
  "metadata": {
    "colab": {
      "provenance": [],
      "authorship_tag": "ABX9TyPrQ+LT2qPIL0WwIAejFm86",
      "include_colab_link": true
    },
    "kernelspec": {
      "name": "python3",
      "display_name": "Python 3"
    },
    "language_info": {
      "name": "python"
    }
  },
  "cells": [
    {
      "cell_type": "markdown",
      "metadata": {
        "id": "view-in-github",
        "colab_type": "text"
      },
      "source": [
        "<a href=\"https://colab.research.google.com/github/ReshmaPatil3290/ReshmaCodeFactory/blob/main/loops.ipynb\" target=\"_parent\"><img src=\"https://colab.research.google.com/assets/colab-badge.svg\" alt=\"Open In Colab\"/></a>"
      ]
    },
    {
      "cell_type": "code",
      "execution_count": null,
      "metadata": {
        "id": "Dmk1bBc3hOsc"
      },
      "outputs": [],
      "source": [
        "# while loop in python\n",
        "num=0\n",
        "while num <10 :\n",
        "  num +=1\n",
        "  print(num)\n",
        "\n",
        "print('second while loop ')\n",
        "num=4\n",
        "while num <60:\n",
        " num +=5\n",
        " print(num)\n",
        "\n",
        "print('table of 6 ')\n",
        "num=1\n",
        "while num <=10:\n",
        "  print(num*6)\n",
        "  num +=1\n",
        ""
      ]
    },
    {
      "cell_type": "code",
      "source": [
        "#for loop\n",
        "#  range(start , end , increment by (step))\n",
        "for num in range(1,11):\n",
        " print(num)\n",
        "\n",
        "#for loop\n",
        "for num in range(2,10):\n",
        " print(num)\n",
        "\n",
        "#for loop table\n",
        "v_table = int(input('Enter the table to print '))\n",
        "for num in range(1,11):\n",
        " print(f\" {num} * {v_table} = {num*v_table}\" ) # one way of priting\n",
        " print(\"{}*{}={}\".format(num,v_table,num*v_table)) # another way of printing\n",
        "\n"
      ],
      "metadata": {
        "id": "t6uhTDz8ncaR"
      },
      "execution_count": null,
      "outputs": []
    },
    {
      "cell_type": "code",
      "source": [
        "#Amstrong numbr method 2\n",
        "v_check_ams_number = int(input('enter the number '))\n",
        "print(v_check_ams_number)\n",
        "print(len(str(v_check_ams_number)))\n",
        "v_length=len(str(v_check_ams_number))\n",
        "print(v_length)\n",
        "v_str =str(v_check_ams_number)\n",
        "v_check_sum=0\n",
        "for num in v_str[0::]:\n",
        "    v_check_sum += int(num)**int(v_length)\n",
        "if v_check_sum == v_check_ams_number :\n",
        "    print('This is amstrong number ')\n",
        "else:\n",
        "    print('This is not amstrong number ')\n"
      ],
      "metadata": {
        "id": "p7yUx_FFqK8x",
        "outputId": "f524dd90-c49d-4220-bf42-b0bc3fe3e96c",
        "colab": {
          "base_uri": "https://localhost:8080/"
        }
      },
      "execution_count": 51,
      "outputs": [
        {
          "output_type": "stream",
          "name": "stdout",
          "text": [
            "enter the number 153\n",
            "153\n",
            "3\n",
            "3\n",
            "This is amstrong number \n"
          ]
        }
      ]
    },
    {
      "cell_type": "code",
      "source": [
        "#Amstrong numbr method 1\n",
        "v_num_to_check = int(input('enter the number '))\n",
        "v_num_to_check_orig = v_num_to_check\n",
        "v_sum=0\n",
        "v_rem=1\n",
        "v_length=len(str(v_num_to_check))\n",
        "while v_rem!=0:\n",
        "  seperateddigit=v_num_to_check%10\n",
        "  v_num_to_check=v_num_to_check//10\n",
        "  v_rem=v_num_to_check\n",
        "  v_sum=v_sum+seperateddigit**v_length\n",
        "if v_num_to_check_orig == v_sum :\n",
        "    print('This is amstrong number ')\n",
        "else:\n",
        "    print('This is not amstrong number ')\n",
        "\n",
        "\n",
        "\n"
      ],
      "metadata": {
        "colab": {
          "base_uri": "https://localhost:8080/"
        },
        "id": "XAuWut2Ih7yV",
        "outputId": "511f2195-07cb-49fd-b132-b81cd1f52e54"
      },
      "execution_count": 80,
      "outputs": [
        {
          "output_type": "stream",
          "name": "stdout",
          "text": [
            "enter the number 153\n",
            "This is amstrong number \n"
          ]
        }
      ]
    },
    {
      "cell_type": "code",
      "source": [
        "#Check  number is prime number\n",
        "v_entered_num = int(input('enter  the number'))\n",
        "v_flag_pn='Y'\n",
        "for num in (2,v_entered_num-1) :\n",
        "   if v_entered_num%num ==0 :\n",
        "     v_flag_pn = 'N'\n",
        "\n",
        "print(v_flag_pn)\n",
        "\n",
        "if v_flag_pn=='Y':\n",
        "  print('This is prime number ')\n",
        "else:\n",
        "  print('This is not prime number ')\n",
        "\n"
      ],
      "metadata": {
        "id": "1RBIESNiyGKb",
        "outputId": "9ad3cfc9-c7af-455c-87eb-d56587da4b07",
        "colab": {
          "base_uri": "https://localhost:8080/"
        }
      },
      "execution_count": 90,
      "outputs": [
        {
          "output_type": "stream",
          "name": "stdout",
          "text": [
            "enter  the number13\n",
            "Y\n",
            "This is prime number \n"
          ]
        }
      ]
    }
  ]
}