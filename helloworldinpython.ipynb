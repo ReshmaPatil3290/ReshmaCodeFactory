{
  "nbformat": 4,
  "nbformat_minor": 0,
  "metadata": {
    "colab": {
      "provenance": [],
      "authorship_tag": "ABX9TyOfFzGWpBqspmzWyX1qMwlK",
      "include_colab_link": true
    },
    "kernelspec": {
      "name": "python3",
      "display_name": "Python 3"
    },
    "language_info": {
      "name": "python"
    }
  },
  "cells": [
    {
      "cell_type": "markdown",
      "metadata": {
        "id": "view-in-github",
        "colab_type": "text"
      },
      "source": [
        "<a href=\"https://colab.research.google.com/github/ReshmaPatil3290/ReshmaCodeFactory/blob/main/helloworldinpython.ipynb\" target=\"_parent\"><img src=\"https://colab.research.google.com/assets/colab-badge.svg\" alt=\"Open In Colab\"/></a>"
      ]
    },
    {
      "cell_type": "code",
      "execution_count": 3,
      "metadata": {
        "colab": {
          "base_uri": "https://localhost:8080/"
        },
        "id": "Rt1EpIwLiydA",
        "outputId": "5cd7d4e3-6ce7-4641-9d48-27c8c970f859"
      },
      "outputs": [
        {
          "output_type": "stream",
          "name": "stdout",
          "text": [
            "Hello Hanumanji\n",
            "    multiline \n",
            "            comment done\n"
          ]
        }
      ],
      "source": [
        "#Hello world Program in Python\n",
        "\n",
        "# I am single line comment\n",
        "\n",
        "print('Hello Hanumanji')\n",
        "\n",
        "''' Hi\n",
        "I am multilene comment  '''\n",
        "\n",
        "\n",
        "print('''    multiline\n",
        "            comment done''')\n"
      ]
    }
  ]
}